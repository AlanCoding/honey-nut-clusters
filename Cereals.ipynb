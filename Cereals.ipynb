{
 "cells": [
  {
   "cell_type": "code",
   "execution_count": 49,
   "metadata": {
    "collapsed": true
   },
   "outputs": [],
   "source": [
    "import csv\n",
    "import pandas as pd\n",
    "from sklearn.cluster import KMeans\n",
    "from sklearn import preprocessing"
   ]
  },
  {
   "cell_type": "code",
   "execution_count": 50,
   "metadata": {
    "collapsed": true
   },
   "outputs": [],
   "source": [
    "df = pd.read_csv(\"cereals.csv\")"
   ]
  },
  {
   "cell_type": "code",
   "execution_count": 51,
   "metadata": {
    "collapsed": false
   },
   "outputs": [
    {
     "data": {
      "text/html": [
       "<div style=\"max-height:1000px;max-width:1500px;overflow:auto;\">\n",
       "<table border=\"1\" class=\"dataframe\">\n",
       "  <thead>\n",
       "    <tr style=\"text-align: right;\">\n",
       "      <th></th>\n",
       "      <th>name</th>\n",
       "      <th>mfr</th>\n",
       "      <th>type</th>\n",
       "      <th>calories</th>\n",
       "      <th>protein</th>\n",
       "      <th>fat</th>\n",
       "      <th>sodium</th>\n",
       "      <th>fiber</th>\n",
       "      <th>carbo</th>\n",
       "      <th>sugars</th>\n",
       "      <th>potass</th>\n",
       "      <th>vitamins</th>\n",
       "      <th>shelf</th>\n",
       "      <th>weight</th>\n",
       "      <th>cups</th>\n",
       "    </tr>\n",
       "  </thead>\n",
       "  <tbody>\n",
       "    <tr>\n",
       "      <th>0</th>\n",
       "      <td>100%_Bran</td>\n",
       "      <td>N</td>\n",
       "      <td>C</td>\n",
       "      <td>70</td>\n",
       "      <td>4</td>\n",
       "      <td>1</td>\n",
       "      <td>130</td>\n",
       "      <td>10</td>\n",
       "      <td>5</td>\n",
       "      <td>6</td>\n",
       "      <td>280</td>\n",
       "      <td>25</td>\n",
       "      <td>3</td>\n",
       "      <td>1</td>\n",
       "      <td>0.33</td>\n",
       "    </tr>\n",
       "    <tr>\n",
       "      <th>1</th>\n",
       "      <td>100%_Natural_Bran</td>\n",
       "      <td>Q</td>\n",
       "      <td>C</td>\n",
       "      <td>120</td>\n",
       "      <td>3</td>\n",
       "      <td>5</td>\n",
       "      <td>15</td>\n",
       "      <td>2</td>\n",
       "      <td>8</td>\n",
       "      <td>8</td>\n",
       "      <td>135</td>\n",
       "      <td>0</td>\n",
       "      <td>3</td>\n",
       "      <td>1</td>\n",
       "      <td>1.00</td>\n",
       "    </tr>\n",
       "    <tr>\n",
       "      <th>2</th>\n",
       "      <td>All-Bran</td>\n",
       "      <td>K</td>\n",
       "      <td>C</td>\n",
       "      <td>70</td>\n",
       "      <td>4</td>\n",
       "      <td>1</td>\n",
       "      <td>260</td>\n",
       "      <td>9</td>\n",
       "      <td>7</td>\n",
       "      <td>5</td>\n",
       "      <td>320</td>\n",
       "      <td>25</td>\n",
       "      <td>3</td>\n",
       "      <td>1</td>\n",
       "      <td>0.33</td>\n",
       "    </tr>\n",
       "    <tr>\n",
       "      <th>3</th>\n",
       "      <td>All-Bran_with_Extra_Fiber</td>\n",
       "      <td>K</td>\n",
       "      <td>C</td>\n",
       "      <td>50</td>\n",
       "      <td>4</td>\n",
       "      <td>0</td>\n",
       "      <td>140</td>\n",
       "      <td>14</td>\n",
       "      <td>8</td>\n",
       "      <td>0</td>\n",
       "      <td>330</td>\n",
       "      <td>25</td>\n",
       "      <td>3</td>\n",
       "      <td>1</td>\n",
       "      <td>0.50</td>\n",
       "    </tr>\n",
       "    <tr>\n",
       "      <th>4</th>\n",
       "      <td>Almond_Delight</td>\n",
       "      <td>R</td>\n",
       "      <td>C</td>\n",
       "      <td>110</td>\n",
       "      <td>2</td>\n",
       "      <td>2</td>\n",
       "      <td>200</td>\n",
       "      <td>1</td>\n",
       "      <td>14</td>\n",
       "      <td>8</td>\n",
       "      <td>-1</td>\n",
       "      <td>25</td>\n",
       "      <td>3</td>\n",
       "      <td>1</td>\n",
       "      <td>0.75</td>\n",
       "    </tr>\n",
       "  </tbody>\n",
       "</table>\n",
       "</div>"
      ],
      "text/plain": [
       "                        name mfr type  calories  protein  fat  sodium  fiber  \\\n",
       "0                  100%_Bran   N    C        70        4    1     130     10   \n",
       "1          100%_Natural_Bran   Q    C       120        3    5      15      2   \n",
       "2                   All-Bran   K    C        70        4    1     260      9   \n",
       "3  All-Bran_with_Extra_Fiber   K    C        50        4    0     140     14   \n",
       "4             Almond_Delight   R    C       110        2    2     200      1   \n",
       "\n",
       "   carbo  sugars  potass  vitamins  shelf  weight  cups  \n",
       "0      5       6     280        25      3       1  0.33  \n",
       "1      8       8     135         0      3       1  1.00  \n",
       "2      7       5     320        25      3       1  0.33  \n",
       "3      8       0     330        25      3       1  0.50  \n",
       "4     14       8      -1        25      3       1  0.75  "
      ]
     },
     "execution_count": 51,
     "metadata": {},
     "output_type": "execute_result"
    }
   ],
   "source": [
    "df.head()"
   ]
  },
  {
   "cell_type": "markdown",
   "metadata": {
    "collapsed": true
   },
   "source": [
    "Looking at this, it's clear that we will have to do something about \"mfr\" and \"type\" colummns because they are not numbers. To get some ennumeration, I'm looking at the value counts of them to see if 1) they are important and 2) to get a use-weighted integer to assign to the contents."
   ]
  },
  {
   "cell_type": "markdown",
   "metadata": {},
   "source": [
    "## Preprocessing"
   ]
  },
  {
   "cell_type": "code",
   "execution_count": 53,
   "metadata": {
    "collapsed": false
   },
   "outputs": [
    {
     "data": {
      "text/plain": [
       "K    23\n",
       "G    22\n",
       "P     9\n",
       "R     8\n",
       "Q     8\n",
       "N     6\n",
       "A     1\n",
       "dtype: int64"
      ]
     },
     "execution_count": 53,
     "metadata": {},
     "output_type": "execute_result"
    }
   ],
   "source": [
    "df[\"mfr\"].value_counts()"
   ]
  },
  {
   "cell_type": "code",
   "execution_count": 54,
   "metadata": {
    "collapsed": false
   },
   "outputs": [
    {
     "data": {
      "text/plain": [
       "C    74\n",
       "H     3\n",
       "dtype: int64"
      ]
     },
     "execution_count": 54,
     "metadata": {},
     "output_type": "execute_result"
    }
   ],
   "source": [
    "df[\"type\"].value_counts()"
   ]
  },
  {
   "cell_type": "markdown",
   "metadata": {},
   "source": [
    "The hot/cold dichotomy seems to be insignificant enough to just drop. The \"mfr\" values are renumbered by prevelance, which might help to preserve some \"distance\" sense."
   ]
  },
  {
   "cell_type": "code",
   "execution_count": 56,
   "metadata": {
    "collapsed": false
   },
   "outputs": [],
   "source": [
    "mfr_numbs = {\n",
    "    \"K\":1,\n",
    "    \"G\":2,\n",
    "    \"P\":3,\n",
    "    \"R\":4,\n",
    "    \"Q\":5,\n",
    "    \"N\":6,\n",
    "    \"A\":7\n",
    "}"
   ]
  },
  {
   "cell_type": "code",
   "execution_count": 57,
   "metadata": {
    "collapsed": false
   },
   "outputs": [],
   "source": [
    "df3 = df\n",
    "df3[\"mfr\"] = df[\"mfr\"].apply(lambda val: mfr_numbs[val]) # applying the ennumeration scheme\n",
    "df3 = df3.drop(\"type\", axis=1)\n",
    "df3 = df3.drop(\"name\", axis=1)"
   ]
  },
  {
   "cell_type": "code",
   "execution_count": 58,
   "metadata": {
    "collapsed": false
   },
   "outputs": [
    {
     "data": {
      "text/html": [
       "<div style=\"max-height:1000px;max-width:1500px;overflow:auto;\">\n",
       "<table border=\"1\" class=\"dataframe\">\n",
       "  <thead>\n",
       "    <tr style=\"text-align: right;\">\n",
       "      <th></th>\n",
       "      <th>mfr</th>\n",
       "      <th>calories</th>\n",
       "      <th>protein</th>\n",
       "      <th>fat</th>\n",
       "      <th>sodium</th>\n",
       "      <th>fiber</th>\n",
       "      <th>carbo</th>\n",
       "      <th>sugars</th>\n",
       "      <th>potass</th>\n",
       "      <th>vitamins</th>\n",
       "      <th>shelf</th>\n",
       "      <th>weight</th>\n",
       "      <th>cups</th>\n",
       "    </tr>\n",
       "  </thead>\n",
       "  <tbody>\n",
       "    <tr>\n",
       "      <th>0</th>\n",
       "      <td>6</td>\n",
       "      <td>70</td>\n",
       "      <td>4</td>\n",
       "      <td>1</td>\n",
       "      <td>130</td>\n",
       "      <td>10</td>\n",
       "      <td>5</td>\n",
       "      <td>6</td>\n",
       "      <td>280</td>\n",
       "      <td>25</td>\n",
       "      <td>3</td>\n",
       "      <td>1</td>\n",
       "      <td>0.33</td>\n",
       "    </tr>\n",
       "    <tr>\n",
       "      <th>1</th>\n",
       "      <td>5</td>\n",
       "      <td>120</td>\n",
       "      <td>3</td>\n",
       "      <td>5</td>\n",
       "      <td>15</td>\n",
       "      <td>2</td>\n",
       "      <td>8</td>\n",
       "      <td>8</td>\n",
       "      <td>135</td>\n",
       "      <td>0</td>\n",
       "      <td>3</td>\n",
       "      <td>1</td>\n",
       "      <td>1.00</td>\n",
       "    </tr>\n",
       "    <tr>\n",
       "      <th>2</th>\n",
       "      <td>1</td>\n",
       "      <td>70</td>\n",
       "      <td>4</td>\n",
       "      <td>1</td>\n",
       "      <td>260</td>\n",
       "      <td>9</td>\n",
       "      <td>7</td>\n",
       "      <td>5</td>\n",
       "      <td>320</td>\n",
       "      <td>25</td>\n",
       "      <td>3</td>\n",
       "      <td>1</td>\n",
       "      <td>0.33</td>\n",
       "    </tr>\n",
       "    <tr>\n",
       "      <th>3</th>\n",
       "      <td>1</td>\n",
       "      <td>50</td>\n",
       "      <td>4</td>\n",
       "      <td>0</td>\n",
       "      <td>140</td>\n",
       "      <td>14</td>\n",
       "      <td>8</td>\n",
       "      <td>0</td>\n",
       "      <td>330</td>\n",
       "      <td>25</td>\n",
       "      <td>3</td>\n",
       "      <td>1</td>\n",
       "      <td>0.50</td>\n",
       "    </tr>\n",
       "    <tr>\n",
       "      <th>4</th>\n",
       "      <td>4</td>\n",
       "      <td>110</td>\n",
       "      <td>2</td>\n",
       "      <td>2</td>\n",
       "      <td>200</td>\n",
       "      <td>1</td>\n",
       "      <td>14</td>\n",
       "      <td>8</td>\n",
       "      <td>-1</td>\n",
       "      <td>25</td>\n",
       "      <td>3</td>\n",
       "      <td>1</td>\n",
       "      <td>0.75</td>\n",
       "    </tr>\n",
       "  </tbody>\n",
       "</table>\n",
       "</div>"
      ],
      "text/plain": [
       "   mfr  calories  protein  fat  sodium  fiber  carbo  sugars  potass  \\\n",
       "0    6        70        4    1     130     10      5       6     280   \n",
       "1    5       120        3    5      15      2      8       8     135   \n",
       "2    1        70        4    1     260      9      7       5     320   \n",
       "3    1        50        4    0     140     14      8       0     330   \n",
       "4    4       110        2    2     200      1     14       8      -1   \n",
       "\n",
       "   vitamins  shelf  weight  cups  \n",
       "0        25      3       1  0.33  \n",
       "1         0      3       1  1.00  \n",
       "2        25      3       1  0.33  \n",
       "3        25      3       1  0.50  \n",
       "4        25      3       1  0.75  "
      ]
     },
     "execution_count": 58,
     "metadata": {},
     "output_type": "execute_result"
    }
   ],
   "source": [
    "df3.head() # these are all numbers now"
   ]
  },
  {
   "cell_type": "code",
   "execution_count": 60,
   "metadata": {
    "collapsed": false
   },
   "outputs": [],
   "source": [
    "v4 = preprocessing.scale(df3) # converts dataframe to numpy array and does scaling"
   ]
  },
  {
   "cell_type": "markdown",
   "metadata": {},
   "source": [
    "## Cluster Analysis"
   ]
  },
  {
   "cell_type": "code",
   "execution_count": 73,
   "metadata": {
    "collapsed": false
   },
   "outputs": [],
   "source": [
    "groups = pd.DataFrame(index=df.index)\n",
    "groups[\"name\"] = df[\"name\"]\n",
    "for i in range(2,10):\n",
    "    kmeans = KMeans(i)\n",
    "    kmeans.fit(v4)\n",
    "    clusters = kmeans.predict(v4)\n",
    "    col_name = \"g\"+(str(i).rjust(2)).replace(\" \", \"0\")\n",
    "    groups[col_name] = clusters"
   ]
  },
  {
   "cell_type": "markdown",
   "metadata": {},
   "source": [
    "The above code actually applies the k-mean method to the data. But we have used a wide range of number of groups, from 2 to 10. Those were all stored into a dataframe so that we can later try to visualize and understand."
   ]
  },
  {
   "cell_type": "code",
   "execution_count": 74,
   "metadata": {
    "collapsed": false
   },
   "outputs": [
    {
     "data": {
      "text/html": [
       "<div style=\"max-height:1000px;max-width:1500px;overflow:auto;\">\n",
       "<table border=\"1\" class=\"dataframe\">\n",
       "  <thead>\n",
       "    <tr style=\"text-align: right;\">\n",
       "      <th></th>\n",
       "      <th>name</th>\n",
       "      <th>g02</th>\n",
       "      <th>g03</th>\n",
       "      <th>g04</th>\n",
       "      <th>g05</th>\n",
       "      <th>g06</th>\n",
       "      <th>g07</th>\n",
       "      <th>g08</th>\n",
       "      <th>g09</th>\n",
       "    </tr>\n",
       "  </thead>\n",
       "  <tbody>\n",
       "    <tr>\n",
       "      <th>0</th>\n",
       "      <td>100%_Bran</td>\n",
       "      <td>1</td>\n",
       "      <td>1</td>\n",
       "      <td>2</td>\n",
       "      <td>3</td>\n",
       "      <td>3</td>\n",
       "      <td>2</td>\n",
       "      <td>3</td>\n",
       "      <td>6</td>\n",
       "    </tr>\n",
       "    <tr>\n",
       "      <th>1</th>\n",
       "      <td>100%_Natural_Bran</td>\n",
       "      <td>1</td>\n",
       "      <td>1</td>\n",
       "      <td>3</td>\n",
       "      <td>2</td>\n",
       "      <td>1</td>\n",
       "      <td>4</td>\n",
       "      <td>2</td>\n",
       "      <td>0</td>\n",
       "    </tr>\n",
       "    <tr>\n",
       "      <th>2</th>\n",
       "      <td>All-Bran</td>\n",
       "      <td>1</td>\n",
       "      <td>1</td>\n",
       "      <td>2</td>\n",
       "      <td>3</td>\n",
       "      <td>3</td>\n",
       "      <td>2</td>\n",
       "      <td>3</td>\n",
       "      <td>6</td>\n",
       "    </tr>\n",
       "    <tr>\n",
       "      <th>3</th>\n",
       "      <td>All-Bran_with_Extra_Fiber</td>\n",
       "      <td>1</td>\n",
       "      <td>1</td>\n",
       "      <td>2</td>\n",
       "      <td>3</td>\n",
       "      <td>3</td>\n",
       "      <td>2</td>\n",
       "      <td>3</td>\n",
       "      <td>6</td>\n",
       "    </tr>\n",
       "    <tr>\n",
       "      <th>4</th>\n",
       "      <td>Almond_Delight</td>\n",
       "      <td>0</td>\n",
       "      <td>0</td>\n",
       "      <td>1</td>\n",
       "      <td>4</td>\n",
       "      <td>0</td>\n",
       "      <td>0</td>\n",
       "      <td>6</td>\n",
       "      <td>1</td>\n",
       "    </tr>\n",
       "  </tbody>\n",
       "</table>\n",
       "</div>"
      ],
      "text/plain": [
       "                        name  g02  g03  g04  g05  g06  g07  g08  g09\n",
       "0                  100%_Bran    1    1    2    3    3    2    3    6\n",
       "1          100%_Natural_Bran    1    1    3    2    1    4    2    0\n",
       "2                   All-Bran    1    1    2    3    3    2    3    6\n",
       "3  All-Bran_with_Extra_Fiber    1    1    2    3    3    2    3    6\n",
       "4             Almond_Delight    0    0    1    4    0    0    6    1"
      ]
     },
     "execution_count": 74,
     "metadata": {},
     "output_type": "execute_result"
    }
   ],
   "source": [
    "groups.head()"
   ]
  },
  {
   "cell_type": "code",
   "execution_count": 101,
   "metadata": {
    "collapsed": false
   },
   "outputs": [],
   "source": [
    "big_list = []\n",
    "for i in range(2,10):\n",
    "    col_val = groups.columns[i-1]\n",
    "    lex_list = [[] for k in range(i)]\n",
    "    for j in range(len(groups)):\n",
    "        idx = groups[col_val][j]\n",
    "#        print(idx)\n",
    "        lex_list[idx].append(groups[\"name\"][j])\n",
    "    big_list.append(lex_list)"
   ]
  },
  {
   "cell_type": "code",
   "execution_count": 137,
   "metadata": {
    "collapsed": true
   },
   "outputs": [],
   "source": [
    "def print_big_list(lex_list):\n",
    "    '''Organizes the groups from one trial (set number of groups) into a column-based printout'''\n",
    "    Ncols = min(4, len(lex_list))\n",
    "    sections = len(lex_list) // Ncols\n",
    "    for k in range(sections):\n",
    "        upper_lim = min((k+1)*4, len(lex_list))\n",
    "        red_list = lex_list[k*4:upper_lim]\n",
    "        MaxI = max([len(val) for val in lex_list])\n",
    "        for j in range(Ncols):\n",
    "            print((\" Category \"+str(j+k*4)).ljust(28), end=\"\")\n",
    "        print(\"\")\n",
    "        for i in range(MaxI):\n",
    "            for j in range(Ncols):\n",
    "                if i < len(red_list[j]):\n",
    "                    print(red_list[j][i][:25].ljust(25)+\"   \", end=\"\")\n",
    "                else:\n",
    "                    print(\" \"*28, end=\"\")\n",
    "            print(\"\")\n",
    "        print(\"\")\n",
    "    "
   ]
  },
  {
   "cell_type": "code",
   "execution_count": 141,
   "metadata": {
    "collapsed": false
   },
   "outputs": [
    {
     "name": "stdout",
     "output_type": "stream",
     "text": [
      " Category 0                  Category 1                  Category 2                  Category 3                 \n",
      "Cheerios                    Bran_Chex                   100%_Natural_Bran           100%_Bran                   \n",
      "Corn_Chex                   Cream_of_Wheat_(Quick)      Basic_4                     All-Bran                    \n",
      "Corn_Flakes                 Double_Chex                 Clusters                    All-Bran_with_Extra_Fiber   \n",
      "Crispix                     Frosted_Mini-Wheats         Cracklin'_Oat_Bran          Bran_Flakes                 \n",
      "Just_Right_Crunchy__Nugge   Grape_Nuts_Flakes           Fruit_&_Fibre_Dates,_Waln                               \n",
      "Kix                         Grape-Nuts                  Fruitful_Bran                                           \n",
      "Nutri-grain_Wheat           Life                        Great_Grains_Pecan                                      \n",
      "Product_19                  Maypo                       Just_Right_Fruit_&_Nut                                  \n",
      "Rice_Chex                   Puffed_Rice                 Muesli_Raisins,_Dates,_&_                               \n",
      "Rice_Krispies               Puffed_Wheat                Muesli_Raisins,_Peaches,_                               \n",
      "Special_K                   Quaker_Oat_Squares          Mueslix_Crispy_Blend                                    \n",
      "Total_Corn_Flakes           Quaker_Oatmeal              Nutri-Grain_Almond-Raisin                               \n",
      "Total_Whole_Grain           Raisin_Squares              Oatmeal_Raisin_Crisp                                    \n",
      "Triples                     Shredded_Wheat              Post_Nat._Raisin_Bran                                   \n",
      "Wheaties                    Shredded_Wheat_'n'Bran      Raisin_Bran                                             \n",
      "                            Shredded_Wheat_spoon_size   Raisin_Nut_Bran                                         \n",
      "                            Strawberry_Fruit_Wheats     Total_Raisin_Bran                                       \n",
      "                            Wheat_Chex                                                                          \n",
      "                                                                                                                \n",
      "                                                                                                                \n",
      "                                                                                                                \n",
      "                                                                                                                \n",
      "                                                                                                                \n",
      "\n"
     ]
    }
   ],
   "source": [
    "print_big_list(big_list[3])"
   ]
  },
  {
   "cell_type": "markdown",
   "metadata": {},
   "source": [
    "We have 4 columns here.\n",
    " - Category 0 seems to be generic flakes and Os\n",
    " - Category 1 is clearly sugar cereals\n",
    " - Category 2 is the \"naturals\" category\n",
    " - Category 3 is exclusively fiber stuff"
   ]
  },
  {
   "cell_type": "code",
   "execution_count": 142,
   "metadata": {
    "collapsed": false
   },
   "outputs": [
    {
     "name": "stdout",
     "output_type": "stream",
     "text": [
      " Category 0                  Category 1                  Category 2                  Category 3                 \n",
      "Cheerios                    Cream_of_Wheat_(Quick)      100%_Natural_Bran           100%_Bran                   \n",
      "Corn_Chex                   Maypo                       Bran_Chex                   All-Bran                    \n",
      "Corn_Flakes                 Shredded_Wheat              Bran_Flakes                 All-Bran_with_Extra_Fiber   \n",
      "Crispix                     Shredded_Wheat_'n'Bran      Clusters                                                \n",
      "Double_Chex                 Shredded_Wheat_spoon_size   Cracklin'_Oat_Bran                                      \n",
      "Kix                         Strawberry_Fruit_Wheats     Crispy_Wheat_&_Raisins                                  \n",
      "Multi-Grain_Cheerios                                    Frosted_Mini-Wheats                                     \n",
      "Nutri-grain_Wheat                                       Grape_Nuts_Flakes                                       \n",
      "Rice_Chex                                               Grape-Nuts                                              \n",
      "Rice_Krispies                                           Great_Grains_Pecan                                      \n",
      "Special_K                                               Life                                                    \n",
      "Triples                                                 Quaker_Oat_Squares                                      \n",
      "Wheat_Chex                                              Quaker_Oatmeal                                          \n",
      "Wheaties                                                Raisin_Nut_Bran                                         \n",
      "                                                        Raisin_Squares                                          \n",
      "                                                                                                                \n",
      "                                                                                                                \n",
      "                                                                                                                \n",
      "                                                                                                                \n",
      "                                                                                                                \n",
      "                                                                                                                \n",
      "\n",
      " Category 4                  Category 5                  Category 6                  Category 7                 \n",
      "Just_Right_Crunchy__Nugge   Basic_4                     Almond_Delight              Puffed_Rice                 \n",
      "Just_Right_Fruit_&_Nut      Fruit_&_Fibre_Dates,_Waln   Apple_Cinnamon_Cheerios     Puffed_Wheat                \n",
      "Product_19                  Fruitful_Bran               Apple_Jacks                                             \n",
      "Total_Corn_Flakes           Muesli_Raisins,_Dates,_&_   Cap'n'Crunch                                            \n",
      "Total_Raisin_Bran           Muesli_Raisins,_Peaches,_   Cinnamon_Toast_Crunch                                   \n",
      "Total_Whole_Grain           Mueslix_Crispy_Blend        Cocoa_Puffs                                             \n",
      "                            Nutri-Grain_Almond-Raisin   Corn_Pops                                               \n",
      "                            Oatmeal_Raisin_Crisp        Count_Chocula                                           \n",
      "                            Post_Nat._Raisin_Bran       Froot_Loops                                             \n",
      "                            Raisin_Bran                 Frosted_Flakes                                          \n",
      "                                                        Fruity_Pebbles                                          \n",
      "                                                        Golden_Crisp                                            \n",
      "                                                        Golden_Grahams                                          \n",
      "                                                        Honey_Graham_Ohs                                        \n",
      "                                                        Honey_Nut_Cheerios                                      \n",
      "                                                        Honey-comb                                              \n",
      "                                                        Lucky_Charms                                            \n",
      "                                                        Nut&Honey_Crunch                                        \n",
      "                                                        Smacks                                                  \n",
      "                                                        Trix                                                    \n",
      "                                                        Wheaties_Honey_Gold                                     \n",
      "\n"
     ]
    }
   ],
   "source": [
    "print_big_list(big_list[6])"
   ]
  },
  {
   "cell_type": "markdown",
   "metadata": {},
   "source": [
    "Breaking it up into 8 categories, we see the emergence of new classes of cereals.\n",
    " - \"Puff\" cereals\n",
    " - Weight-loss cereals\n",
    " - Rains and dates\n",
    " - bran"
   ]
  },
  {
   "cell_type": "code",
   "execution_count": null,
   "metadata": {
    "collapsed": true
   },
   "outputs": [],
   "source": []
  },
  {
   "cell_type": "code",
   "execution_count": null,
   "metadata": {
    "collapsed": true
   },
   "outputs": [],
   "source": []
  }
 ],
 "metadata": {
  "kernelspec": {
   "display_name": "Python 3",
   "language": "python",
   "name": "python3"
  },
  "language_info": {
   "codemirror_mode": {
    "name": "ipython",
    "version": 3
   },
   "file_extension": ".py",
   "mimetype": "text/x-python",
   "name": "python",
   "nbconvert_exporter": "python",
   "pygments_lexer": "ipython3",
   "version": "3.4.3"
  }
 },
 "nbformat": 4,
 "nbformat_minor": 0
}
