{
 "cells": [
  {
   "cell_type": "code",
   "execution_count": 262,
   "metadata": {
    "collapsed": true
   },
   "outputs": [],
   "source": [
    "import csv\n",
    "import pandas as pd\n",
    "from sklearn.cluster import KMeans\n",
    "from sklearn import preprocessing\n",
    "import numpy as np\n",
    "import matplotlib as plt\n",
    "%matplotlib inline"
   ]
  },
  {
   "cell_type": "code",
   "execution_count": 263,
   "metadata": {
    "collapsed": true
   },
   "outputs": [],
   "source": [
    "df = pd.read_csv(\"cereals.csv\")"
   ]
  },
  {
   "cell_type": "code",
   "execution_count": 264,
   "metadata": {
    "collapsed": false
   },
   "outputs": [
    {
     "data": {
      "text/html": [
       "<div style=\"max-height:1000px;max-width:1500px;overflow:auto;\">\n",
       "<table border=\"1\" class=\"dataframe\">\n",
       "  <thead>\n",
       "    <tr style=\"text-align: right;\">\n",
       "      <th></th>\n",
       "      <th>name</th>\n",
       "      <th>mfr</th>\n",
       "      <th>type</th>\n",
       "      <th>calories</th>\n",
       "      <th>protein</th>\n",
       "      <th>fat</th>\n",
       "      <th>sodium</th>\n",
       "      <th>fiber</th>\n",
       "      <th>carbo</th>\n",
       "      <th>sugars</th>\n",
       "      <th>potass</th>\n",
       "      <th>vitamins</th>\n",
       "      <th>shelf</th>\n",
       "      <th>weight</th>\n",
       "      <th>cups</th>\n",
       "    </tr>\n",
       "  </thead>\n",
       "  <tbody>\n",
       "    <tr>\n",
       "      <th>0</th>\n",
       "      <td>100%_Bran</td>\n",
       "      <td>N</td>\n",
       "      <td>C</td>\n",
       "      <td>70</td>\n",
       "      <td>4</td>\n",
       "      <td>1</td>\n",
       "      <td>130</td>\n",
       "      <td>10</td>\n",
       "      <td>5</td>\n",
       "      <td>6</td>\n",
       "      <td>280</td>\n",
       "      <td>25</td>\n",
       "      <td>3</td>\n",
       "      <td>1</td>\n",
       "      <td>0.33</td>\n",
       "    </tr>\n",
       "    <tr>\n",
       "      <th>1</th>\n",
       "      <td>100%_Natural_Bran</td>\n",
       "      <td>Q</td>\n",
       "      <td>C</td>\n",
       "      <td>120</td>\n",
       "      <td>3</td>\n",
       "      <td>5</td>\n",
       "      <td>15</td>\n",
       "      <td>2</td>\n",
       "      <td>8</td>\n",
       "      <td>8</td>\n",
       "      <td>135</td>\n",
       "      <td>0</td>\n",
       "      <td>3</td>\n",
       "      <td>1</td>\n",
       "      <td>1.00</td>\n",
       "    </tr>\n",
       "    <tr>\n",
       "      <th>2</th>\n",
       "      <td>All-Bran</td>\n",
       "      <td>K</td>\n",
       "      <td>C</td>\n",
       "      <td>70</td>\n",
       "      <td>4</td>\n",
       "      <td>1</td>\n",
       "      <td>260</td>\n",
       "      <td>9</td>\n",
       "      <td>7</td>\n",
       "      <td>5</td>\n",
       "      <td>320</td>\n",
       "      <td>25</td>\n",
       "      <td>3</td>\n",
       "      <td>1</td>\n",
       "      <td>0.33</td>\n",
       "    </tr>\n",
       "    <tr>\n",
       "      <th>3</th>\n",
       "      <td>All-Bran_with_Extra_Fiber</td>\n",
       "      <td>K</td>\n",
       "      <td>C</td>\n",
       "      <td>50</td>\n",
       "      <td>4</td>\n",
       "      <td>0</td>\n",
       "      <td>140</td>\n",
       "      <td>14</td>\n",
       "      <td>8</td>\n",
       "      <td>0</td>\n",
       "      <td>330</td>\n",
       "      <td>25</td>\n",
       "      <td>3</td>\n",
       "      <td>1</td>\n",
       "      <td>0.50</td>\n",
       "    </tr>\n",
       "    <tr>\n",
       "      <th>4</th>\n",
       "      <td>Almond_Delight</td>\n",
       "      <td>R</td>\n",
       "      <td>C</td>\n",
       "      <td>110</td>\n",
       "      <td>2</td>\n",
       "      <td>2</td>\n",
       "      <td>200</td>\n",
       "      <td>1</td>\n",
       "      <td>14</td>\n",
       "      <td>8</td>\n",
       "      <td>-1</td>\n",
       "      <td>25</td>\n",
       "      <td>3</td>\n",
       "      <td>1</td>\n",
       "      <td>0.75</td>\n",
       "    </tr>\n",
       "  </tbody>\n",
       "</table>\n",
       "</div>"
      ],
      "text/plain": [
       "                        name mfr type  calories  protein  fat  sodium  fiber  \\\n",
       "0                  100%_Bran   N    C        70        4    1     130     10   \n",
       "1          100%_Natural_Bran   Q    C       120        3    5      15      2   \n",
       "2                   All-Bran   K    C        70        4    1     260      9   \n",
       "3  All-Bran_with_Extra_Fiber   K    C        50        4    0     140     14   \n",
       "4             Almond_Delight   R    C       110        2    2     200      1   \n",
       "\n",
       "   carbo  sugars  potass  vitamins  shelf  weight  cups  \n",
       "0      5       6     280        25      3       1  0.33  \n",
       "1      8       8     135         0      3       1  1.00  \n",
       "2      7       5     320        25      3       1  0.33  \n",
       "3      8       0     330        25      3       1  0.50  \n",
       "4     14       8      -1        25      3       1  0.75  "
      ]
     },
     "execution_count": 264,
     "metadata": {},
     "output_type": "execute_result"
    }
   ],
   "source": [
    "df.head()"
   ]
  },
  {
   "cell_type": "markdown",
   "metadata": {
    "collapsed": true
   },
   "source": [
    "Looking at this, it's clear that we will have to do something about \"mfr\" and \"type\" colummns because they are not numbers. To get some ennumeration, I'm looking at the value counts of them to see if 1) they are important and 2) to get a use-weighted integer to assign to the contents."
   ]
  },
  {
   "cell_type": "markdown",
   "metadata": {},
   "source": [
    "## Cleaning Data"
   ]
  },
  {
   "cell_type": "code",
   "execution_count": 265,
   "metadata": {
    "collapsed": false
   },
   "outputs": [],
   "source": [
    "df = df.reindex(np.random.permutation(df.index)) # randomize order of data"
   ]
  },
  {
   "cell_type": "code",
   "execution_count": 266,
   "metadata": {
    "collapsed": false
   },
   "outputs": [
    {
     "name": "stdout",
     "output_type": "stream",
     "text": [
      "name           100%_Bran\n",
      "mfr            A\n",
      "type           C\n",
      "calories       50\n",
      "protein        1\n",
      "fat            0\n",
      "sodium         0\n",
      "fiber          0.0\n",
      "carbo          -1.0\n",
      "sugars         -1\n",
      "potass         -1\n",
      "vitamins       0\n",
      "shelf          1\n",
      "weight         0.5\n",
      "cups           0.25\n"
     ]
    }
   ],
   "source": [
    "for col in df.columns:\n",
    "    print(col.ljust(15)+str(min(df[col])))"
   ]
  },
  {
   "cell_type": "code",
   "execution_count": 267,
   "metadata": {
    "collapsed": true
   },
   "outputs": [],
   "source": [
    "replace_cols = [\"carbo\", \"sugars\", \"potass\"]"
   ]
  },
  {
   "cell_type": "code",
   "execution_count": 268,
   "metadata": {
    "collapsed": true
   },
   "outputs": [],
   "source": [
    "avg_cols = [0]*3\n",
    "for i in range(3):\n",
    "    avg_cols[i] = sum(df[replace_cols[i]]) / len(df[replace_cols[i]])"
   ]
  },
  {
   "cell_type": "code",
   "execution_count": 269,
   "metadata": {
    "collapsed": false
   },
   "outputs": [],
   "source": [
    "for i in range(3): # replace missing things with average value\n",
    "    col = replace_cols[i]\n",
    "    df[col] = df[col].replace(-1, avg_cols[i])"
   ]
  },
  {
   "cell_type": "code",
   "execution_count": 270,
   "metadata": {
    "collapsed": false
   },
   "outputs": [
    {
     "data": {
      "text/plain": [
       "<matplotlib.axes._subplots.AxesSubplot at 0x113d4aa20>"
      ]
     },
     "execution_count": 270,
     "metadata": {},
     "output_type": "execute_result"
    },
    {
     "data": {
      "image/png": "[encoded data removed]",
      "text/plain": [
       "<matplotlib.figure.Figure at 0x113c87be0>"
      ]
     },
     "metadata": {},
     "output_type": "display_data"
    }
   ],
   "source": [
    "df.plot(kind=\"scatter\", x=\"calories\", y=\"weight\")"
   ]
  },
  {
   "cell_type": "markdown",
   "metadata": {},
   "source": [
    "Weight and calories are not equivelant, and cups isn't either."
   ]
  },
  {
   "cell_type": "code",
   "execution_count": 271,
   "metadata": {
    "collapsed": false
   },
   "outputs": [
    {
     "data": {
      "text/html": [
       "<div style=\"max-height:1000px;max-width:1500px;overflow:auto;\">\n",
       "<table border=\"1\" class=\"dataframe\">\n",
       "  <thead>\n",
       "    <tr style=\"text-align: right;\">\n",
       "      <th></th>\n",
       "      <th>name</th>\n",
       "      <th>mfr</th>\n",
       "      <th>type</th>\n",
       "      <th>calories</th>\n",
       "      <th>protein</th>\n",
       "      <th>fat</th>\n",
       "      <th>sodium</th>\n",
       "      <th>fiber</th>\n",
       "      <th>carbo</th>\n",
       "      <th>sugars</th>\n",
       "      <th>potass</th>\n",
       "      <th>vitamins</th>\n",
       "      <th>shelf</th>\n",
       "      <th>weight</th>\n",
       "      <th>cups</th>\n",
       "    </tr>\n",
       "  </thead>\n",
       "  <tbody>\n",
       "    <tr>\n",
       "      <th>62</th>\n",
       "      <td>Rice_Krispies</td>\n",
       "      <td>K</td>\n",
       "      <td>C</td>\n",
       "      <td>110</td>\n",
       "      <td>2</td>\n",
       "      <td>0</td>\n",
       "      <td>290</td>\n",
       "      <td>0</td>\n",
       "      <td>22</td>\n",
       "      <td>3</td>\n",
       "      <td>35.000000</td>\n",
       "      <td>25</td>\n",
       "      <td>1</td>\n",
       "      <td>1</td>\n",
       "      <td>1.00</td>\n",
       "    </tr>\n",
       "    <tr>\n",
       "      <th>64</th>\n",
       "      <td>Shredded_Wheat_'n'Bran</td>\n",
       "      <td>N</td>\n",
       "      <td>C</td>\n",
       "      <td>90</td>\n",
       "      <td>3</td>\n",
       "      <td>0</td>\n",
       "      <td>0</td>\n",
       "      <td>4</td>\n",
       "      <td>19</td>\n",
       "      <td>0</td>\n",
       "      <td>140.000000</td>\n",
       "      <td>0</td>\n",
       "      <td>1</td>\n",
       "      <td>1</td>\n",
       "      <td>0.67</td>\n",
       "    </tr>\n",
       "    <tr>\n",
       "      <th>42</th>\n",
       "      <td>Lucky_Charms</td>\n",
       "      <td>G</td>\n",
       "      <td>C</td>\n",
       "      <td>110</td>\n",
       "      <td>2</td>\n",
       "      <td>1</td>\n",
       "      <td>180</td>\n",
       "      <td>0</td>\n",
       "      <td>12</td>\n",
       "      <td>12</td>\n",
       "      <td>55.000000</td>\n",
       "      <td>25</td>\n",
       "      <td>2</td>\n",
       "      <td>1</td>\n",
       "      <td>1.00</td>\n",
       "    </tr>\n",
       "    <tr>\n",
       "      <th>20</th>\n",
       "      <td>Cream_of_Wheat_(Quick)</td>\n",
       "      <td>N</td>\n",
       "      <td>H</td>\n",
       "      <td>100</td>\n",
       "      <td>3</td>\n",
       "      <td>0</td>\n",
       "      <td>80</td>\n",
       "      <td>1</td>\n",
       "      <td>21</td>\n",
       "      <td>0</td>\n",
       "      <td>96.077922</td>\n",
       "      <td>0</td>\n",
       "      <td>2</td>\n",
       "      <td>1</td>\n",
       "      <td>1.00</td>\n",
       "    </tr>\n",
       "    <tr>\n",
       "      <th>61</th>\n",
       "      <td>Rice_Chex</td>\n",
       "      <td>R</td>\n",
       "      <td>C</td>\n",
       "      <td>110</td>\n",
       "      <td>1</td>\n",
       "      <td>0</td>\n",
       "      <td>240</td>\n",
       "      <td>0</td>\n",
       "      <td>23</td>\n",
       "      <td>2</td>\n",
       "      <td>30.000000</td>\n",
       "      <td>25</td>\n",
       "      <td>1</td>\n",
       "      <td>1</td>\n",
       "      <td>1.13</td>\n",
       "    </tr>\n",
       "  </tbody>\n",
       "</table>\n",
       "</div>"
      ],
      "text/plain": [
       "                      name mfr type  calories  protein  fat  sodium  fiber  \\\n",
       "62           Rice_Krispies   K    C       110        2    0     290      0   \n",
       "64  Shredded_Wheat_'n'Bran   N    C        90        3    0       0      4   \n",
       "42            Lucky_Charms   G    C       110        2    1     180      0   \n",
       "20  Cream_of_Wheat_(Quick)   N    H       100        3    0      80      1   \n",
       "61               Rice_Chex   R    C       110        1    0     240      0   \n",
       "\n",
       "    carbo  sugars      potass  vitamins  shelf  weight  cups  \n",
       "62     22       3   35.000000        25      1       1  1.00  \n",
       "64     19       0  140.000000         0      1       1  0.67  \n",
       "42     12      12   55.000000        25      2       1  1.00  \n",
       "20     21       0   96.077922         0      2       1  1.00  \n",
       "61     23       2   30.000000        25      1       1  1.13  "
      ]
     },
     "execution_count": 271,
     "metadata": {},
     "output_type": "execute_result"
    }
   ],
   "source": [
    "df.head()"
   ]
  },
  {
   "cell_type": "code",
   "execution_count": 272,
   "metadata": {
    "collapsed": false
   },
   "outputs": [],
   "source": [
    "for col in df.columns[3:]:\n",
    "    df[col] = df[col] / df[\"weight\"]\n",
    "df = df.drop(\"weight\", axis=1)"
   ]
  },
  {
   "cell_type": "code",
   "execution_count": 273,
   "metadata": {
    "collapsed": false
   },
   "outputs": [
    {
     "data": {
      "text/html": [
       "<div style=\"max-height:1000px;max-width:1500px;overflow:auto;\">\n",
       "<table border=\"1\" class=\"dataframe\">\n",
       "  <thead>\n",
       "    <tr style=\"text-align: right;\">\n",
       "      <th></th>\n",
       "      <th>name</th>\n",
       "      <th>mfr</th>\n",
       "      <th>type</th>\n",
       "      <th>calories</th>\n",
       "      <th>protein</th>\n",
       "      <th>fat</th>\n",
       "      <th>sodium</th>\n",
       "      <th>fiber</th>\n",
       "      <th>carbo</th>\n",
       "      <th>sugars</th>\n",
       "      <th>potass</th>\n",
       "      <th>vitamins</th>\n",
       "      <th>shelf</th>\n",
       "      <th>cups</th>\n",
       "    </tr>\n",
       "  </thead>\n",
       "  <tbody>\n",
       "    <tr>\n",
       "      <th>62</th>\n",
       "      <td>Rice_Krispies</td>\n",
       "      <td>K</td>\n",
       "      <td>C</td>\n",
       "      <td>110</td>\n",
       "      <td>2</td>\n",
       "      <td>0</td>\n",
       "      <td>290</td>\n",
       "      <td>0</td>\n",
       "      <td>22</td>\n",
       "      <td>3</td>\n",
       "      <td>35.000000</td>\n",
       "      <td>25</td>\n",
       "      <td>1</td>\n",
       "      <td>1.00</td>\n",
       "    </tr>\n",
       "    <tr>\n",
       "      <th>64</th>\n",
       "      <td>Shredded_Wheat_'n'Bran</td>\n",
       "      <td>N</td>\n",
       "      <td>C</td>\n",
       "      <td>90</td>\n",
       "      <td>3</td>\n",
       "      <td>0</td>\n",
       "      <td>0</td>\n",
       "      <td>4</td>\n",
       "      <td>19</td>\n",
       "      <td>0</td>\n",
       "      <td>140.000000</td>\n",
       "      <td>0</td>\n",
       "      <td>1</td>\n",
       "      <td>0.67</td>\n",
       "    </tr>\n",
       "    <tr>\n",
       "      <th>42</th>\n",
       "      <td>Lucky_Charms</td>\n",
       "      <td>G</td>\n",
       "      <td>C</td>\n",
       "      <td>110</td>\n",
       "      <td>2</td>\n",
       "      <td>1</td>\n",
       "      <td>180</td>\n",
       "      <td>0</td>\n",
       "      <td>12</td>\n",
       "      <td>12</td>\n",
       "      <td>55.000000</td>\n",
       "      <td>25</td>\n",
       "      <td>2</td>\n",
       "      <td>1.00</td>\n",
       "    </tr>\n",
       "    <tr>\n",
       "      <th>20</th>\n",
       "      <td>Cream_of_Wheat_(Quick)</td>\n",
       "      <td>N</td>\n",
       "      <td>H</td>\n",
       "      <td>100</td>\n",
       "      <td>3</td>\n",
       "      <td>0</td>\n",
       "      <td>80</td>\n",
       "      <td>1</td>\n",
       "      <td>21</td>\n",
       "      <td>0</td>\n",
       "      <td>96.077922</td>\n",
       "      <td>0</td>\n",
       "      <td>2</td>\n",
       "      <td>1.00</td>\n",
       "    </tr>\n",
       "    <tr>\n",
       "      <th>61</th>\n",
       "      <td>Rice_Chex</td>\n",
       "      <td>R</td>\n",
       "      <td>C</td>\n",
       "      <td>110</td>\n",
       "      <td>1</td>\n",
       "      <td>0</td>\n",
       "      <td>240</td>\n",
       "      <td>0</td>\n",
       "      <td>23</td>\n",
       "      <td>2</td>\n",
       "      <td>30.000000</td>\n",
       "      <td>25</td>\n",
       "      <td>1</td>\n",
       "      <td>1.13</td>\n",
       "    </tr>\n",
       "  </tbody>\n",
       "</table>\n",
       "</div>"
      ],
      "text/plain": [
       "                      name mfr type  calories  protein  fat  sodium  fiber  \\\n",
       "62           Rice_Krispies   K    C       110        2    0     290      0   \n",
       "64  Shredded_Wheat_'n'Bran   N    C        90        3    0       0      4   \n",
       "42            Lucky_Charms   G    C       110        2    1     180      0   \n",
       "20  Cream_of_Wheat_(Quick)   N    H       100        3    0      80      1   \n",
       "61               Rice_Chex   R    C       110        1    0     240      0   \n",
       "\n",
       "    carbo  sugars      potass  vitamins  shelf  cups  \n",
       "62     22       3   35.000000        25      1  1.00  \n",
       "64     19       0  140.000000         0      1  0.67  \n",
       "42     12      12   55.000000        25      2  1.00  \n",
       "20     21       0   96.077922         0      2  1.00  \n",
       "61     23       2   30.000000        25      1  1.13  "
      ]
     },
     "execution_count": 273,
     "metadata": {},
     "output_type": "execute_result"
    }
   ],
   "source": [
    "df.head()"
   ]
  },
  {
   "cell_type": "markdown",
   "metadata": {},
   "source": [
    "## Preprocessing"
   ]
  },
  {
   "cell_type": "code",
   "execution_count": 274,
   "metadata": {
    "collapsed": false
   },
   "outputs": [
    {
     "data": {
      "text/plain": [
       "K    23\n",
       "G    22\n",
       "P     9\n",
       "Q     8\n",
       "R     8\n",
       "N     6\n",
       "A     1\n",
       "dtype: int64"
      ]
     },
     "execution_count": 274,
     "metadata": {},
     "output_type": "execute_result"
    }
   ],
   "source": [
    "df[\"mfr\"].value_counts()"
   ]
  },
  {
   "cell_type": "code",
   "execution_count": 275,
   "metadata": {
    "collapsed": false
   },
   "outputs": [
    {
     "data": {
      "text/plain": [
       "C    74\n",
       "H     3\n",
       "dtype: int64"
      ]
     },
     "execution_count": 275,
     "metadata": {},
     "output_type": "execute_result"
    }
   ],
   "source": [
    "df[\"type\"].value_counts()"
   ]
  },
  {
   "cell_type": "markdown",
   "metadata": {},
   "source": [
    "The hot/cold dichotomy seems to be insignificant enough to just drop. The \"mfr\" values are renumbered by prevelance, which might help to preserve some \"distance\" sense."
   ]
  },
  {
   "cell_type": "code",
   "execution_count": 276,
   "metadata": {
    "collapsed": false
   },
   "outputs": [],
   "source": [
    "mfr_numbs = {\n",
    "    \"K\":1,\n",
    "    \"G\":2,\n",
    "    \"P\":3,\n",
    "    \"R\":4,\n",
    "    \"Q\":5,\n",
    "    \"N\":6,\n",
    "    \"A\":7\n",
    "}"
   ]
  },
  {
   "cell_type": "code",
   "execution_count": 277,
   "metadata": {
    "collapsed": false
   },
   "outputs": [],
   "source": [
    "df3 = df\n",
    "df3[\"mfr\"] = df[\"mfr\"].apply(lambda val: mfr_numbs[val]) # applying the ennumeration scheme\n",
    "df3 = df3.drop(\"type\", axis=1)\n",
    "df3 = df3.drop(\"name\", axis=1)"
   ]
  },
  {
   "cell_type": "code",
   "execution_count": 278,
   "metadata": {
    "collapsed": false
   },
   "outputs": [
    {
     "data": {
      "text/plain": [
       "1.00    30\n",
       "0.75    16\n",
       "0.67    13\n",
       "0.50     7\n",
       "0.33     3\n",
       "0.88     2\n",
       "1.25     1\n",
       "1.33     1\n",
       "1.13     1\n",
       "0.80     1\n",
       "1.50     1\n",
       "0.25     1\n",
       "dtype: int64"
      ]
     },
     "execution_count": 278,
     "metadata": {},
     "output_type": "execute_result"
    }
   ],
   "source": [
    "df3[\"cups\"].value_counts()"
   ]
  },
  {
   "cell_type": "code",
   "execution_count": 279,
   "metadata": {
    "collapsed": false
   },
   "outputs": [
    {
     "data": {
      "text/html": [
       "<div style=\"max-height:1000px;max-width:1500px;overflow:auto;\">\n",
       "<table border=\"1\" class=\"dataframe\">\n",
       "  <thead>\n",
       "    <tr style=\"text-align: right;\">\n",
       "      <th></th>\n",
       "      <th>mfr</th>\n",
       "      <th>calories</th>\n",
       "      <th>protein</th>\n",
       "      <th>fat</th>\n",
       "      <th>sodium</th>\n",
       "      <th>fiber</th>\n",
       "      <th>carbo</th>\n",
       "      <th>sugars</th>\n",
       "      <th>potass</th>\n",
       "      <th>vitamins</th>\n",
       "      <th>shelf</th>\n",
       "      <th>cups</th>\n",
       "    </tr>\n",
       "  </thead>\n",
       "  <tbody>\n",
       "    <tr>\n",
       "      <th>62</th>\n",
       "      <td>1</td>\n",
       "      <td>110</td>\n",
       "      <td>2</td>\n",
       "      <td>0</td>\n",
       "      <td>290</td>\n",
       "      <td>0</td>\n",
       "      <td>22</td>\n",
       "      <td>3</td>\n",
       "      <td>35.000000</td>\n",
       "      <td>25</td>\n",
       "      <td>1</td>\n",
       "      <td>1.00</td>\n",
       "    </tr>\n",
       "    <tr>\n",
       "      <th>64</th>\n",
       "      <td>6</td>\n",
       "      <td>90</td>\n",
       "      <td>3</td>\n",
       "      <td>0</td>\n",
       "      <td>0</td>\n",
       "      <td>4</td>\n",
       "      <td>19</td>\n",
       "      <td>0</td>\n",
       "      <td>140.000000</td>\n",
       "      <td>0</td>\n",
       "      <td>1</td>\n",
       "      <td>0.67</td>\n",
       "    </tr>\n",
       "    <tr>\n",
       "      <th>42</th>\n",
       "      <td>2</td>\n",
       "      <td>110</td>\n",
       "      <td>2</td>\n",
       "      <td>1</td>\n",
       "      <td>180</td>\n",
       "      <td>0</td>\n",
       "      <td>12</td>\n",
       "      <td>12</td>\n",
       "      <td>55.000000</td>\n",
       "      <td>25</td>\n",
       "      <td>2</td>\n",
       "      <td>1.00</td>\n",
       "    </tr>\n",
       "    <tr>\n",
       "      <th>20</th>\n",
       "      <td>6</td>\n",
       "      <td>100</td>\n",
       "      <td>3</td>\n",
       "      <td>0</td>\n",
       "      <td>80</td>\n",
       "      <td>1</td>\n",
       "      <td>21</td>\n",
       "      <td>0</td>\n",
       "      <td>96.077922</td>\n",
       "      <td>0</td>\n",
       "      <td>2</td>\n",
       "      <td>1.00</td>\n",
       "    </tr>\n",
       "    <tr>\n",
       "      <th>61</th>\n",
       "      <td>4</td>\n",
       "      <td>110</td>\n",
       "      <td>1</td>\n",
       "      <td>0</td>\n",
       "      <td>240</td>\n",
       "      <td>0</td>\n",
       "      <td>23</td>\n",
       "      <td>2</td>\n",
       "      <td>30.000000</td>\n",
       "      <td>25</td>\n",
       "      <td>1</td>\n",
       "      <td>1.13</td>\n",
       "    </tr>\n",
       "  </tbody>\n",
       "</table>\n",
       "</div>"
      ],
      "text/plain": [
       "    mfr  calories  protein  fat  sodium  fiber  carbo  sugars      potass  \\\n",
       "62    1       110        2    0     290      0     22       3   35.000000   \n",
       "64    6        90        3    0       0      4     19       0  140.000000   \n",
       "42    2       110        2    1     180      0     12      12   55.000000   \n",
       "20    6       100        3    0      80      1     21       0   96.077922   \n",
       "61    4       110        1    0     240      0     23       2   30.000000   \n",
       "\n",
       "    vitamins  shelf  cups  \n",
       "62        25      1  1.00  \n",
       "64         0      1  0.67  \n",
       "42        25      2  1.00  \n",
       "20         0      2  1.00  \n",
       "61        25      1  1.13  "
      ]
     },
     "execution_count": 279,
     "metadata": {},
     "output_type": "execute_result"
    }
   ],
   "source": [
    "df3.head() # these are all numbers now"
   ]
  },
  {
   "cell_type": "code",
   "execution_count": 280,
   "metadata": {
    "collapsed": false
   },
   "outputs": [],
   "source": [
    "v4 = preprocessing.scale(df3) # converts dataframe to numpy array and does scaling"
   ]
  },
  {
   "cell_type": "markdown",
   "metadata": {},
   "source": [
    "## Cluster Analysis"
   ]
  },
  {
   "cell_type": "code",
   "execution_count": 281,
   "metadata": {
    "collapsed": false
   },
   "outputs": [],
   "source": [
    "groups = pd.DataFrame(index=df.index)\n",
    "groups[\"name\"] = df[\"name\"]\n",
    "for i in range(2,10):\n",
    "    kmeans = KMeans(i)\n",
    "    kmeans.fit(v4)\n",
    "    clusters = kmeans.predict(v4)\n",
    "    col_name = \"g\"+(str(i).rjust(2)).replace(\" \", \"0\")\n",
    "    groups[col_name] = clusters"
   ]
  },
  {
   "cell_type": "markdown",
   "metadata": {},
   "source": [
    "The above code actually applies the k-mean method to the data. But we have used a wide range of number of groups, from 2 to 10. Those were all stored into a dataframe so that we can later try to visualize and understand."
   ]
  },
  {
   "cell_type": "code",
   "execution_count": 282,
   "metadata": {
    "collapsed": false
   },
   "outputs": [
    {
     "data": {
      "text/html": [
       "<div style=\"max-height:1000px;max-width:1500px;overflow:auto;\">\n",
       "<table border=\"1\" class=\"dataframe\">\n",
       "  <thead>\n",
       "    <tr style=\"text-align: right;\">\n",
       "      <th></th>\n",
       "      <th>name</th>\n",
       "      <th>g02</th>\n",
       "      <th>g03</th>\n",
       "      <th>g04</th>\n",
       "      <th>g05</th>\n",
       "      <th>g06</th>\n",
       "      <th>g07</th>\n",
       "      <th>g08</th>\n",
       "      <th>g09</th>\n",
       "    </tr>\n",
       "  </thead>\n",
       "  <tbody>\n",
       "    <tr>\n",
       "      <th>62</th>\n",
       "      <td>Rice_Krispies</td>\n",
       "      <td>0</td>\n",
       "      <td>0</td>\n",
       "      <td>3</td>\n",
       "      <td>0</td>\n",
       "      <td>0</td>\n",
       "      <td>0</td>\n",
       "      <td>2</td>\n",
       "      <td>0</td>\n",
       "    </tr>\n",
       "    <tr>\n",
       "      <th>64</th>\n",
       "      <td>Shredded_Wheat_'n'Bran</td>\n",
       "      <td>1</td>\n",
       "      <td>1</td>\n",
       "      <td>0</td>\n",
       "      <td>2</td>\n",
       "      <td>4</td>\n",
       "      <td>2</td>\n",
       "      <td>0</td>\n",
       "      <td>4</td>\n",
       "    </tr>\n",
       "    <tr>\n",
       "      <th>42</th>\n",
       "      <td>Lucky_Charms</td>\n",
       "      <td>0</td>\n",
       "      <td>0</td>\n",
       "      <td>1</td>\n",
       "      <td>3</td>\n",
       "      <td>1</td>\n",
       "      <td>6</td>\n",
       "      <td>6</td>\n",
       "      <td>2</td>\n",
       "    </tr>\n",
       "    <tr>\n",
       "      <th>20</th>\n",
       "      <td>Cream_of_Wheat_(Quick)</td>\n",
       "      <td>1</td>\n",
       "      <td>1</td>\n",
       "      <td>0</td>\n",
       "      <td>2</td>\n",
       "      <td>4</td>\n",
       "      <td>2</td>\n",
       "      <td>0</td>\n",
       "      <td>4</td>\n",
       "    </tr>\n",
       "    <tr>\n",
       "      <th>61</th>\n",
       "      <td>Rice_Chex</td>\n",
       "      <td>0</td>\n",
       "      <td>0</td>\n",
       "      <td>3</td>\n",
       "      <td>0</td>\n",
       "      <td>0</td>\n",
       "      <td>0</td>\n",
       "      <td>2</td>\n",
       "      <td>0</td>\n",
       "    </tr>\n",
       "  </tbody>\n",
       "</table>\n",
       "</div>"
      ],
      "text/plain": [
       "                      name  g02  g03  g04  g05  g06  g07  g08  g09\n",
       "62           Rice_Krispies    0    0    3    0    0    0    2    0\n",
       "64  Shredded_Wheat_'n'Bran    1    1    0    2    4    2    0    4\n",
       "42            Lucky_Charms    0    0    1    3    1    6    6    2\n",
       "20  Cream_of_Wheat_(Quick)    1    1    0    2    4    2    0    4\n",
       "61               Rice_Chex    0    0    3    0    0    0    2    0"
      ]
     },
     "execution_count": 282,
     "metadata": {},
     "output_type": "execute_result"
    }
   ],
   "source": [
    "groups.head()"
   ]
  },
  {
   "cell_type": "code",
   "execution_count": 283,
   "metadata": {
    "collapsed": false
   },
   "outputs": [],
   "source": [
    "big_list = []\n",
    "for i in range(2,10):\n",
    "    col_val = groups.columns[i-1]\n",
    "    lex_list = [[] for k in range(i)]\n",
    "    for j in range(len(groups)):\n",
    "        idx = groups[col_val][j]\n",
    "#        print(idx)\n",
    "        lex_list[idx].append(groups[\"name\"][j])\n",
    "    big_list.append(lex_list)"
   ]
  },
  {
   "cell_type": "code",
   "execution_count": 284,
   "metadata": {
    "collapsed": true
   },
   "outputs": [],
   "source": [
    "def print_big_list(lex_list):\n",
    "    '''Organizes the groups from one trial (set number of groups) into a column-based printout'''\n",
    "    Ncols = min(4, len(lex_list))\n",
    "    sections = len(lex_list) // Ncols\n",
    "    for k in range(sections):\n",
    "        upper_lim = min((k+1)*4, len(lex_list))\n",
    "        red_list = lex_list[k*4:upper_lim]\n",
    "        MaxI = max([len(val) for val in lex_list])\n",
    "        for j in range(Ncols):\n",
    "            print((\" Category \"+str(j+k*4)).ljust(28), end=\"\")\n",
    "        print(\"\")\n",
    "        for i in range(MaxI):\n",
    "            for j in range(Ncols):\n",
    "                if i < len(red_list[j]):\n",
    "                    print(red_list[j][i][:25].ljust(25)+\"   \", end=\"\")\n",
    "                else:\n",
    "                    print(\" \"*28, end=\"\")\n",
    "            print(\"\")\n",
    "        print(\"\")\n",
    "    "
   ]
  },
  {
   "cell_type": "code",
   "execution_count": 285,
   "metadata": {
    "collapsed": false
   },
   "outputs": [
    {
     "name": "stdout",
     "output_type": "stream",
     "text": [
      " Category 0                  Category 1                  Category 2                  Category 3                 \n",
      "Cheerios                    100%_Bran                   Cream_of_Wheat_(Quick)      Apple_Cinnamon_Cheerios     \n",
      "Corn_Chex                   All-Bran                    Maypo                       Apple_Jacks                 \n",
      "Corn_Flakes                 All-Bran_with_Extra_Fiber   Puffed_Rice                 Cap'n'Crunch                \n",
      "Crispix                                                 Puffed_Wheat                Cinnamon_Toast_Crunch       \n",
      "Double_Chex                                             Shredded_Wheat              Cocoa_Puffs                 \n",
      "Just_Right_Crunchy__Nugge                               Shredded_Wheat_'n'Bran      Corn_Pops                   \n",
      "Just_Right_Fruit_&_Nut                                  Shredded_Wheat_spoon_size   Count_Chocula               \n",
      "Kix                                                     Strawberry_Fruit_Wheats     Froot_Loops                 \n",
      "Multi-Grain_Cheerios                                                                Frosted_Flakes              \n",
      "Nutri-grain_Wheat                                                                   Fruity_Pebbles              \n",
      "Product_19                                                                          Golden_Crisp                \n",
      "Rice_Chex                                                                           Golden_Grahams              \n",
      "Rice_Krispies                                                                       Honey_Graham_Ohs            \n",
      "Special_K                                                                           Honey_Nut_Cheerios          \n",
      "Total_Corn_Flakes                                                                   Honey-comb                  \n",
      "Total_Whole_Grain                                                                   Lucky_Charms                \n",
      "Triples                                                                             Nut&Honey_Crunch            \n",
      "Wheaties                                                                            Smacks                      \n",
      "                                                                                    Total_Raisin_Bran           \n",
      "                                                                                    Trix                        \n",
      "                                                                                    Wheaties_Honey_Gold         \n",
      "                                                                                                                \n",
      "                                                                                                                \n",
      "                                                                                                                \n",
      "                                                                                                                \n",
      "                                                                                                                \n",
      "                                                                                                                \n",
      "\n"
     ]
    }
   ],
   "source": [
    "print_big_list(big_list[3])"
   ]
  },
  {
   "cell_type": "markdown",
   "metadata": {},
   "source": [
    "We have 4 columns here. A general eyeballing of the contents suggests categories of:\n",
    " - Generic flakes and Os\n",
    " - Sugar cereals\n",
    " - The \"naturals\" category\n",
    " - Exclusively fiber stuff"
   ]
  },
  {
   "cell_type": "code",
   "execution_count": 286,
   "metadata": {
    "collapsed": false
   },
   "outputs": [
    {
     "name": "stdout",
     "output_type": "stream",
     "text": [
      " Category 0                  Category 1                  Category 2                  Category 3                 \n",
      "Cream_of_Wheat_(Quick)      Almond_Delight              Cheerios                    100%_Natural_Bran           \n",
      "Maypo                       Basic_4                     Corn_Chex                   Muesli_Raisins,_Dates,_&_   \n",
      "Quaker_Oatmeal              Bran_Chex                   Corn_Flakes                 Muesli_Raisins,_Peaches,_   \n",
      "Shredded_Wheat              Bran_Flakes                 Crispix                                                 \n",
      "Shredded_Wheat_'n'Bran      Clusters                    Kix                                                     \n",
      "Shredded_Wheat_spoon_size   Cracklin'_Oat_Bran          Multi-Grain_Cheerios                                    \n",
      "Strawberry_Fruit_Wheats     Crispy_Wheat_&_Raisins      Nutri-grain_Wheat                                       \n",
      "                            Double_Chex                 Rice_Chex                                               \n",
      "                            Frosted_Mini-Wheats         Rice_Krispies                                           \n",
      "                            Fruit_&_Fibre_Dates,_Waln   Special_K                                               \n",
      "                            Fruitful_Bran               Triples                                                 \n",
      "                            Grape_Nuts_Flakes           Wheaties                                                \n",
      "                            Grape-Nuts                                                                          \n",
      "                            Great_Grains_Pecan                                                                  \n",
      "                            Life                                                                                \n",
      "                            Mueslix_Crispy_Blend                                                                \n",
      "                            Nutri-Grain_Almond-Raisin                                                           \n",
      "                            Oatmeal_Raisin_Crisp                                                                \n",
      "                            Post_Nat._Raisin_Bran                                                               \n",
      "                            Quaker_Oat_Squares                                                                  \n",
      "                            Raisin_Bran                                                                         \n",
      "                            Raisin_Nut_Bran                                                                     \n",
      "                            Raisin_Squares                                                                      \n",
      "                            Total_Raisin_Bran                                                                   \n",
      "                            Wheat_Chex                                                                          \n",
      "\n",
      " Category 4                  Category 5                  Category 6                  Category 7                 \n",
      "100%_Bran                   Puffed_Rice                 Apple_Cinnamon_Cheerios     Just_Right_Crunchy__Nugge   \n",
      "All-Bran                    Puffed_Wheat                Apple_Jacks                 Just_Right_Fruit_&_Nut      \n",
      "All-Bran_with_Extra_Fiber                               Cap'n'Crunch                Product_19                  \n",
      "                                                        Cinnamon_Toast_Crunch       Total_Corn_Flakes           \n",
      "                                                        Cocoa_Puffs                 Total_Whole_Grain           \n",
      "                                                        Corn_Pops                                               \n",
      "                                                        Count_Chocula                                           \n",
      "                                                        Froot_Loops                                             \n",
      "                                                        Frosted_Flakes                                          \n",
      "                                                        Fruity_Pebbles                                          \n",
      "                                                        Golden_Crisp                                            \n",
      "                                                        Golden_Grahams                                          \n",
      "                                                        Honey_Graham_Ohs                                        \n",
      "                                                        Honey_Nut_Cheerios                                      \n",
      "                                                        Honey-comb                                              \n",
      "                                                        Lucky_Charms                                            \n",
      "                                                        Nut&Honey_Crunch                                        \n",
      "                                                        Smacks                                                  \n",
      "                                                        Trix                                                    \n",
      "                                                        Wheaties_Honey_Gold                                     \n",
      "                                                                                                                \n",
      "                                                                                                                \n",
      "                                                                                                                \n",
      "                                                                                                                \n",
      "                                                                                                                \n",
      "\n"
     ]
    }
   ],
   "source": [
    "print_big_list(big_list[6])"
   ]
  },
  {
   "cell_type": "markdown",
   "metadata": {},
   "source": [
    "Breaking it up into 8 categories, we see the emergence of new classes of cereals.\n",
    " - \"Puff\" cereals\n",
    " - Weight-loss cereals\n",
    " - Rains and dates\n",
    " - bran"
   ]
  },
  {
   "cell_type": "code",
   "execution_count": null,
   "metadata": {
    "collapsed": true
   },
   "outputs": [],
   "source": []
  },
  {
   "cell_type": "markdown",
   "metadata": {
    "collapsed": true
   },
   "source": [
    "# Predicting category of Bran flakes from Trader Joes"
   ]
  },
  {
   "cell_type": "code",
   "execution_count": 292,
   "metadata": {
    "collapsed": false
   },
   "outputs": [
    {
     "name": "stdout",
     "output_type": "stream",
     "text": [
      " Category 0                  Category 1                  Category 2                  Category 3                 \n",
      "100%_Natural_Bran           100%_Bran                   All-Bran                    Corn_Flakes                 \n",
      "All-Bran_with_Extra_Fiber   Almond_Delight              Bran_Chex                   Maypo                       \n",
      "Apple_Cinnamon_Cheerios     Cocoa_Puffs                 Cheerios                    Oatmeal_Raisin_Crisp        \n",
      "Apple_Jacks                 Crispix                     Corn_Chex                                               \n",
      "Basic_4                     Frosted_Mini-Wheats         Corn_Pops                                               \n",
      "Bran_Flakes                 Great_Grains_Pecan          Count_Chocula                                           \n",
      "Cap'n'Crunch                Honey_Graham_Ohs            Cracklin'_Oat_Bran                                      \n",
      "Cinnamon_Toast_Crunch       Lucky_Charms                Double_Chex                                             \n",
      "Clusters                    Nutri-Grain_Almond-Raisin   Froot_Loops                                             \n",
      "Cream_of_Wheat_(Quick)      Nutri-grain_Wheat           Fruit_&_Fibre_Dates,_Waln                               \n",
      "Crispy_Wheat_&_Raisins      Product_19                  Golden_Crisp                                            \n",
      "Frosted_Flakes              Puffed_Rice                 Grape_Nuts_Flakes                                       \n",
      "Fruitful_Bran               Quaker_Oatmeal              Honey-comb                                              \n",
      "Fruity_Pebbles              Raisin_Nut_Bran             Just_Right_Crunchy__Nugge                               \n",
      "Golden_Grahams              Shredded_Wheat_'n'Bran      Muesli_Raisins,_Dates,_&_                               \n",
      "Grape-Nuts                  Strawberry_Fruit_Wheats     Mueslix_Crispy_Blend                                    \n",
      "Honey_Nut_Cheerios          Total_Whole_Grain           Puffed_Wheat                                            \n",
      "Just_Right_Fruit_&_Nut                                  Rice_Krispies                                           \n",
      "Kix                                                     Smacks                                                  \n",
      "Life                                                    Total_Corn_Flakes                                       \n",
      "Muesli_Raisins,_Peaches,_                               Total_Raisin_Bran                                       \n",
      "Multi-Grain_Cheerios                                    Triples                                                 \n",
      "Nut&Honey_Crunch                                        Wheat_Chex                                              \n",
      "Post_Nat._Raisin_Bran                                                                                           \n",
      "Quaker_Oat_Squares                                                                                              \n",
      "Raisin_Bran                                                                                                     \n",
      "Raisin_Squares                                                                                                  \n",
      "Rice_Chex                                                                                                       \n",
      "Shredded_Wheat                                                                                                  \n",
      "Shredded_Wheat_spoon_size                                                                                       \n",
      "Special_K                                                                                                       \n",
      "Trix                                                                                                            \n",
      "Wheaties                                                                                                        \n",
      "Wheaties_Honey_Gold                                                                                             \n",
      "\n"
     ]
    }
   ],
   "source": [
    "kmeans = KMeans(4)\n",
    "kmeans.fit(v4)\n",
    "clusters = kmeans.predict(v4)\n",
    "\n",
    "lex_list = [[] for k in range(4)]\n",
    "for j in range(len(clusters)):\n",
    "    idx = clusters[j]\n",
    "    lex_list[idx].append(df[\"name\"][j])\n",
    "print_big_list(lex_list)"
   ]
  },
  {
   "cell_type": "code",
   "execution_count": 295,
   "metadata": {
    "collapsed": false
   },
   "outputs": [
    {
     "data": {
      "text/plain": [
       "mfr           6.00\n",
       "calories     70.00\n",
       "protein       4.00\n",
       "fat           1.00\n",
       "sodium      130.00\n",
       "fiber        10.00\n",
       "carbo         5.00\n",
       "sugars        6.00\n",
       "potass      280.00\n",
       "vitamins     25.00\n",
       "shelf         3.00\n",
       "cups          0.33\n",
       "Name: 0, dtype: float64"
      ]
     },
     "execution_count": 295,
     "metadata": {},
     "output_type": "execute_result"
    }
   ],
   "source": [
    "df3.ix[0]"
   ]
  },
  {
   "cell_type": "code",
   "execution_count": 296,
   "metadata": {
    "collapsed": false
   },
   "outputs": [
    {
     "data": {
      "text/plain": [
       "array([3], dtype=int32)"
      ]
     },
     "execution_count": 296,
     "metadata": {},
     "output_type": "execute_result"
    }
   ],
   "source": [
    "kmeans.predict(df3.ix[0])"
   ]
  },
  {
   "cell_type": "code",
   "execution_count": 299,
   "metadata": {
    "collapsed": true
   },
   "outputs": [],
   "source": [
    "# Bran flakes data\n",
    "BF = [6., 100., 3., 0.5, 220., 5., 24., 6., 170., 35., 3., 0.75]"
   ]
  },
  {
   "cell_type": "code",
   "execution_count": 300,
   "metadata": {
    "collapsed": false
   },
   "outputs": [
    {
     "data": {
      "text/plain": [
       "array([3], dtype=int32)"
      ]
     },
     "execution_count": 300,
     "metadata": {},
     "output_type": "execute_result"
    }
   ],
   "source": [
    "kmeans.predict(BF)"
   ]
  },
  {
   "cell_type": "markdown",
   "metadata": {},
   "source": [
    "It gets grouped in with the Corn Flakes and oatmeal cereal. That seems reasonable."
   ]
  },
  {
   "cell_type": "code",
   "execution_count": null,
   "metadata": {
    "collapsed": true
   },
   "outputs": [],
   "source": []
  }
 ],
 "metadata": {
  "kernelspec": {
   "display_name": "Python 3",
   "language": "python",
   "name": "python3"
  },
  "language_info": {
   "codemirror_mode": {
    "name": "ipython",
    "version": 3
   },
   "file_extension": ".py",
   "mimetype": "text/x-python",
   "name": "python",
   "nbconvert_exporter": "python",
   "pygments_lexer": "ipython3",
   "version": "3.4.3"
  }
 },
 "nbformat": 4,
 "nbformat_minor": 0
}
